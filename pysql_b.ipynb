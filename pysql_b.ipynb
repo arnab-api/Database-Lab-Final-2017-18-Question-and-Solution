{
 "cells": [
  {
   "cell_type": "code",
   "execution_count": 1,
   "metadata": {},
   "outputs": [],
   "source": [
    "import sqlite3\n",
    "import pandas as pd\n",
    "import numpy as np\n",
    "import json\n",
    "from operator import itemgetter"
   ]
  },
  {
   "cell_type": "code",
   "execution_count": 2,
   "metadata": {},
   "outputs": [],
   "source": [
    "connection = sqlite3.connect(\"test.db\")\n",
    "cursor = connection.cursor()"
   ]
  },
  {
   "cell_type": "code",
   "execution_count": 3,
   "metadata": {},
   "outputs": [],
   "source": [
    "def read_query(query, cursor):\n",
    "    cursor.execute(query)\n",
    "    result = cursor.fetchall()\n",
    "    attr_arr = cursor.description\n",
    "    attr = []\n",
    "    for val in attr_arr:\n",
    "        attr.append(val[0])\n",
    "    json_res = []\n",
    "    for user in result:\n",
    "        obj = {}\n",
    "        for i in range(len(attr)):\n",
    "            obj[attr[i]] = user[i]\n",
    "        json_res.append(obj)\n",
    "    \n",
    "    return json_res"
   ]
  },
  {
   "cell_type": "code",
   "execution_count": 4,
   "metadata": {},
   "outputs": [
    {
     "data": {
      "text/plain": [
       "[{'code': 'CSE331', 'name': 'Software Engineering and Design Patterns'},\n",
       " {'code': 'CSE333', 'name': 'Database Management Systems'},\n",
       " {'code': 'CSE335', 'name': 'Operating Systems'},\n",
       " {'code': 'CSE365', 'name': 'Communication Engineering'},\n",
       " {'code': 'CSE325', 'name': 'Digital Signal Processing'},\n",
       " {'code': 'CSE345', 'name': 'Introduction to Data Science'}]"
      ]
     },
     "execution_count": 4,
     "metadata": {},
     "output_type": "execute_result"
    }
   ],
   "source": [
    "query = \"select * from courses\"\n",
    "result = read_query(query, cursor)\n",
    "result"
   ]
  },
  {
   "cell_type": "markdown",
   "metadata": {},
   "source": [
    "## Write appropriate queries and manipulate the data using python to create a **tabulation** dictionary like below and **pysql_1.ipynb**"
   ]
  },
  {
   "cell_type": "code",
   "execution_count": 15,
   "metadata": {},
   "outputs": [],
   "source": [
    "tabulation = {\n",
    "    2121000001: {\n",
    "      'Registration': 2121000001,\n",
    "      'name': 'Adam',\n",
    "      'CSE331': 90.0,\n",
    "      'CSE333': 97.0,\n",
    "      'CSE335': 93.5,\n",
    "      'CSE365': 96.5,\n",
    "      'CSE325': 88.5,\n",
    "      'CSE345': 100.0\n",
    "    },\n",
    "    2121000002: {\n",
    "      'Registration': 2121000002,\n",
    "      'name': 'Alex',\n",
    "      'CSE331': 62.0,\n",
    "      'CSE333': 37.0,\n",
    "      'CSE335': 49.5,\n",
    "      'CSE365': 44.5,\n",
    "      'CSE325': 53.5,\n",
    "      'CSE345': 46.5\n",
    "    },\n",
    "    2121000003: {\n",
    "      'Registration': 2121000003,\n",
    "      'name': 'Aaron',\n",
    "      'CSE331': 91.0,\n",
    "      'CSE333': 75.0,\n",
    "      'CSE335': 83.0,\n",
    "      'CSE365': 83.0,\n",
    "      'CSE325': 76.0,\n",
    "      'CSE345': 91.0\n",
    "    },\n",
    "}"
   ]
  },
  {
   "cell_type": "markdown",
   "metadata": {},
   "source": [
    "## It is preferred if you do not touch the following code snippets"
   ]
  },
  {
   "cell_type": "code",
   "execution_count": 16,
   "metadata": {},
   "outputs": [
    {
     "data": {
      "text/plain": [
       "4.0"
      ]
     },
     "execution_count": 16,
     "metadata": {},
     "output_type": "execute_result"
    }
   ],
   "source": [
    "gpa_matrix = {}\n",
    "credit = 4.00\n",
    "for i in range(80, 39, -5):\n",
    "    gpa_matrix[i] = credit\n",
    "    credit -= 0.25\n",
    "gpa_matrix[35] = 0\n",
    "gpa_matrix\n",
    "\n",
    "\n",
    "def getGPA(marks):\n",
    "    scle = min(marks, 80)\n",
    "    scle = max(scle, 35)\n",
    "    scle -= scle%5\n",
    "\n",
    "    return gpa_matrix[scle]\n",
    "\n",
    "getGPA(95)"
   ]
  },
  {
   "cell_type": "code",
   "execution_count": 22,
   "metadata": {},
   "outputs": [
    {
     "data": {
      "text/plain": [
       "{'cgpa': 4.0, 'total': 565.5, 'Registration': 2121000001, 'name': 'Adam'}"
      ]
     },
     "execution_count": 22,
     "metadata": {},
     "output_type": "execute_result"
    }
   ],
   "source": [
    "# Assumes all the courses have similar credits\n",
    "def processStudentInfo(info):\n",
    "    ret = {\n",
    "        \"cgpa\": 0.0,\n",
    "        \"total\": 0\n",
    "    }\n",
    "    for key in info:\n",
    "        if key == \"Registration\" or key == \"name\":\n",
    "            ret[key] = info[key]\n",
    "            continue\n",
    "        ret['cgpa'] += getGPA(info[key])\n",
    "        ret['total'] += info[key]\n",
    "\n",
    "    ret['cgpa'] = round(ret['cgpa']/(len(info.keys()) - 2), 2)\n",
    "    return ret\n",
    "\n",
    "processStudentInfo({\n",
    "    'Registration': 2121000001,\n",
    "    'name': 'Adam',\n",
    "    'CSE331': 90.0,\n",
    "    'CSE333': 97.0,\n",
    "    'CSE335': 93.5,\n",
    "    'CSE365': 96.5,\n",
    "    'CSE325': 88.5,\n",
    "    'CSE345': 100.0\n",
    "})\n"
   ]
  },
  {
   "cell_type": "markdown",
   "metadata": {},
   "source": [
    "## Populate an array named **processed** which contains information in the format given below"
   ]
  },
  {
   "cell_type": "code",
   "execution_count": 23,
   "metadata": {},
   "outputs": [],
   "source": [
    "processed = [\n",
    "    {'cgpa': 4.0, 'total': 565.5, 'Registration': 2121000001, 'name': 'Adam'},\n",
    "    {'cgpa': 2.0, 'total': 293.0, 'Registration': 2121000002, 'name': 'Alex'},\n",
    "    {'cgpa': 3.92, 'total': 499.0, 'Registration': 2121000003, 'name': 'Aaron'}\n",
    "]"
   ]
  },
  {
   "cell_type": "markdown",
   "metadata": {},
   "source": [
    "## Use the following 2 cells to show result"
   ]
  },
  {
   "cell_type": "code",
   "execution_count": 26,
   "metadata": {},
   "outputs": [],
   "source": [
    "processed.sort(key=itemgetter('total'), reverse=True) # sort based on total marks first\n",
    "processed.sort(key=itemgetter('cgpa'), reverse=True)  # finally sort based on cgpa"
   ]
  },
  {
   "cell_type": "code",
   "execution_count": 27,
   "metadata": {},
   "outputs": [
    {
     "data": {
      "text/html": [
       "<style type=\"text/css\">\n",
       "</style>\n",
       "<table id=\"T_22949_\">\n",
       "  <thead>\n",
       "    <tr>\n",
       "      <th class=\"col_heading level0 col0\" >Registration</th>\n",
       "      <th class=\"col_heading level0 col1\" >name</th>\n",
       "      <th class=\"col_heading level0 col2\" >cgpa</th>\n",
       "      <th class=\"col_heading level0 col3\" >total</th>\n",
       "    </tr>\n",
       "  </thead>\n",
       "  <tbody>\n",
       "    <tr>\n",
       "      <td id=\"T_22949_row0_col0\" class=\"data row0 col0\" >2121000001</td>\n",
       "      <td id=\"T_22949_row0_col1\" class=\"data row0 col1\" >Adam</td>\n",
       "      <td id=\"T_22949_row0_col2\" class=\"data row0 col2\" >4.000000</td>\n",
       "      <td id=\"T_22949_row0_col3\" class=\"data row0 col3\" >565.500000</td>\n",
       "    </tr>\n",
       "    <tr>\n",
       "      <td id=\"T_22949_row1_col0\" class=\"data row1 col0\" >2121000003</td>\n",
       "      <td id=\"T_22949_row1_col1\" class=\"data row1 col1\" >Aaron</td>\n",
       "      <td id=\"T_22949_row1_col2\" class=\"data row1 col2\" >3.920000</td>\n",
       "      <td id=\"T_22949_row1_col3\" class=\"data row1 col3\" >499.000000</td>\n",
       "    </tr>\n",
       "    <tr>\n",
       "      <td id=\"T_22949_row2_col0\" class=\"data row2 col0\" >2121000002</td>\n",
       "      <td id=\"T_22949_row2_col1\" class=\"data row2 col1\" >Alex</td>\n",
       "      <td id=\"T_22949_row2_col2\" class=\"data row2 col2\" >2.000000</td>\n",
       "      <td id=\"T_22949_row2_col3\" class=\"data row2 col3\" >293.000000</td>\n",
       "    </tr>\n",
       "  </tbody>\n",
       "</table>\n"
      ],
      "text/plain": [
       "<pandas.io.formats.style.Styler at 0x7f5827eee550>"
      ]
     },
     "execution_count": 27,
     "metadata": {},
     "output_type": "execute_result"
    }
   ],
   "source": [
    "rank = pd.DataFrame(processed)\n",
    "rank[[\"Registration\", \"name\", \"cgpa\", 'total']].style.hide_index()"
   ]
  }
 ],
 "metadata": {
  "interpreter": {
   "hash": "86c05b4b46ef06f516309814ce78bc1a27426809d5b84db23a56cd4d205ccb6b"
  },
  "kernelspec": {
   "display_name": "Python 3.7.9 64-bit ('ml': conda)",
   "language": "python",
   "name": "python3"
  },
  "language_info": {
   "codemirror_mode": {
    "name": "ipython",
    "version": 3
   },
   "file_extension": ".py",
   "mimetype": "text/x-python",
   "name": "python",
   "nbconvert_exporter": "python",
   "pygments_lexer": "ipython3",
   "version": "3.7.9"
  },
  "orig_nbformat": 4
 },
 "nbformat": 4,
 "nbformat_minor": 2
}
