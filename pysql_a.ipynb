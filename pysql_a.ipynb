{
 "cells": [
  {
   "cell_type": "code",
   "execution_count": 1,
   "metadata": {},
   "outputs": [],
   "source": [
    "import sqlite3\n",
    "import pandas as pd\n",
    "import numpy as np"
   ]
  },
  {
   "cell_type": "code",
   "execution_count": 2,
   "metadata": {},
   "outputs": [],
   "source": [
    "connection = sqlite3.connect(\"test.db\")\n",
    "cursor = connection.cursor()"
   ]
  },
  {
   "cell_type": "code",
   "execution_count": 3,
   "metadata": {},
   "outputs": [],
   "source": [
    "def read_query(query, cursor):\n",
    "    cursor.execute(query)\n",
    "    result = cursor.fetchall()\n",
    "    attr_arr = cursor.description\n",
    "    attr = []\n",
    "    for val in attr_arr:\n",
    "        attr.append(val[0])\n",
    "    json_res = []\n",
    "    for user in result:\n",
    "        obj = {}\n",
    "        for i in range(len(attr)):\n",
    "            obj[attr[i]] = user[i]\n",
    "        json_res.append(obj)\n",
    "    \n",
    "    return json_res"
   ]
  },
  {
   "cell_type": "code",
   "execution_count": 4,
   "metadata": {},
   "outputs": [
    {
     "data": {
      "text/plain": [
       "[{'code': 'CSE331', 'name': 'Software Engineering and Design Patterns'},\n",
       " {'code': 'CSE333', 'name': 'Database Management Systems'},\n",
       " {'code': 'CSE335', 'name': 'Operating Systems'},\n",
       " {'code': 'CSE365', 'name': 'Communication Engineering'},\n",
       " {'code': 'CSE325', 'name': 'Digital Signal Processing'},\n",
       " {'code': 'CSE345', 'name': 'Introduction to Data Science'}]"
      ]
     },
     "execution_count": 4,
     "metadata": {},
     "output_type": "execute_result"
    }
   ],
   "source": [
    "query = \"select * from courses\"\n",
    "result = read_query(query, cursor)\n",
    "result"
   ]
  },
  {
   "cell_type": "markdown",
   "metadata": {},
   "source": [
    "## Write appropriate queries and manipulate the data using python to create a **tabulation** dictionary like below"
   ]
  },
  {
   "cell_type": "code",
   "execution_count": 5,
   "metadata": {},
   "outputs": [],
   "source": [
    "tabulation = {\n",
    "    2121000001: {\n",
    "      'Registration': 2121000001,\n",
    "      'name': 'Adam',\n",
    "      'CSE331': 90.0,\n",
    "      'CSE333': 97.0,\n",
    "      'CSE335': 93.5,\n",
    "      'CSE365': 96.5,\n",
    "      'CSE325': 88.5,\n",
    "      'CSE345': 100.0\n",
    "    },\n",
    "    2121000002: {\n",
    "      'Registration': 2121000002,\n",
    "      'name': 'Alex',\n",
    "      'CSE331': 62.0,\n",
    "      'CSE333': 37.0,\n",
    "      'CSE335': 49.5,\n",
    "      'CSE365': 44.5,\n",
    "      'CSE325': 53.5,\n",
    "      'CSE345': 46.5\n",
    "    },\n",
    "    2121000003: {\n",
    "      'Registration': 2121000003,\n",
    "      'name': 'Aaron',\n",
    "      'CSE331': 91.0,\n",
    "      'CSE333': 75.0,\n",
    "      'CSE335': 83.0,\n",
    "      'CSE365': 83.0,\n",
    "      'CSE325': 76.0,\n",
    "      'CSE345': 91.0\n",
    "    },\n",
    "}"
   ]
  },
  {
   "cell_type": "markdown",
   "metadata": {},
   "source": [
    "## Then you can display the result using the following cells"
   ]
  },
  {
   "cell_type": "code",
   "execution_count": 6,
   "metadata": {},
   "outputs": [],
   "source": [
    "df = pd.DataFrame.from_dict(tabulation, orient='index')"
   ]
  },
  {
   "cell_type": "code",
   "execution_count": 7,
   "metadata": {},
   "outputs": [
    {
     "data": {
      "text/html": [
       "<style type=\"text/css\">\n",
       "</style>\n",
       "<table id=\"T_ce418_\">\n",
       "  <thead>\n",
       "    <tr>\n",
       "      <th class=\"col_heading level0 col0\" >Registration</th>\n",
       "      <th class=\"col_heading level0 col1\" >name</th>\n",
       "      <th class=\"col_heading level0 col2\" >CSE331</th>\n",
       "      <th class=\"col_heading level0 col3\" >CSE333</th>\n",
       "      <th class=\"col_heading level0 col4\" >CSE335</th>\n",
       "      <th class=\"col_heading level0 col5\" >CSE365</th>\n",
       "      <th class=\"col_heading level0 col6\" >CSE325</th>\n",
       "      <th class=\"col_heading level0 col7\" >CSE345</th>\n",
       "    </tr>\n",
       "  </thead>\n",
       "  <tbody>\n",
       "    <tr>\n",
       "      <td id=\"T_ce418_row0_col0\" class=\"data row0 col0\" >2121000001</td>\n",
       "      <td id=\"T_ce418_row0_col1\" class=\"data row0 col1\" >Adam</td>\n",
       "      <td id=\"T_ce418_row0_col2\" class=\"data row0 col2\" >90.000000</td>\n",
       "      <td id=\"T_ce418_row0_col3\" class=\"data row0 col3\" >97.000000</td>\n",
       "      <td id=\"T_ce418_row0_col4\" class=\"data row0 col4\" >93.500000</td>\n",
       "      <td id=\"T_ce418_row0_col5\" class=\"data row0 col5\" >96.500000</td>\n",
       "      <td id=\"T_ce418_row0_col6\" class=\"data row0 col6\" >88.500000</td>\n",
       "      <td id=\"T_ce418_row0_col7\" class=\"data row0 col7\" >100.000000</td>\n",
       "    </tr>\n",
       "    <tr>\n",
       "      <td id=\"T_ce418_row1_col0\" class=\"data row1 col0\" >2121000002</td>\n",
       "      <td id=\"T_ce418_row1_col1\" class=\"data row1 col1\" >Alex</td>\n",
       "      <td id=\"T_ce418_row1_col2\" class=\"data row1 col2\" >62.000000</td>\n",
       "      <td id=\"T_ce418_row1_col3\" class=\"data row1 col3\" >37.000000</td>\n",
       "      <td id=\"T_ce418_row1_col4\" class=\"data row1 col4\" >49.500000</td>\n",
       "      <td id=\"T_ce418_row1_col5\" class=\"data row1 col5\" >44.500000</td>\n",
       "      <td id=\"T_ce418_row1_col6\" class=\"data row1 col6\" >53.500000</td>\n",
       "      <td id=\"T_ce418_row1_col7\" class=\"data row1 col7\" >46.500000</td>\n",
       "    </tr>\n",
       "    <tr>\n",
       "      <td id=\"T_ce418_row2_col0\" class=\"data row2 col0\" >2121000003</td>\n",
       "      <td id=\"T_ce418_row2_col1\" class=\"data row2 col1\" >Aaron</td>\n",
       "      <td id=\"T_ce418_row2_col2\" class=\"data row2 col2\" >91.000000</td>\n",
       "      <td id=\"T_ce418_row2_col3\" class=\"data row2 col3\" >75.000000</td>\n",
       "      <td id=\"T_ce418_row2_col4\" class=\"data row2 col4\" >83.000000</td>\n",
       "      <td id=\"T_ce418_row2_col5\" class=\"data row2 col5\" >83.000000</td>\n",
       "      <td id=\"T_ce418_row2_col6\" class=\"data row2 col6\" >76.000000</td>\n",
       "      <td id=\"T_ce418_row2_col7\" class=\"data row2 col7\" >91.000000</td>\n",
       "    </tr>\n",
       "  </tbody>\n",
       "</table>\n"
      ],
      "text/plain": [
       "<pandas.io.formats.style.Styler at 0x7efde8e844d0>"
      ]
     },
     "execution_count": 7,
     "metadata": {},
     "output_type": "execute_result"
    }
   ],
   "source": [
    "df.head(10).style.hide_index()"
   ]
  },
  {
   "cell_type": "code",
   "execution_count": null,
   "metadata": {},
   "outputs": [],
   "source": []
  }
 ],
 "metadata": {
  "interpreter": {
   "hash": "86c05b4b46ef06f516309814ce78bc1a27426809d5b84db23a56cd4d205ccb6b"
  },
  "kernelspec": {
   "display_name": "Python 3.7.9 64-bit ('ml': conda)",
   "language": "python",
   "name": "python3"
  },
  "language_info": {
   "codemirror_mode": {
    "name": "ipython",
    "version": 3
   },
   "file_extension": ".py",
   "mimetype": "text/x-python",
   "name": "python",
   "nbconvert_exporter": "python",
   "pygments_lexer": "ipython3",
   "version": "3.7.9"
  },
  "orig_nbformat": 4
 },
 "nbformat": 4,
 "nbformat_minor": 2
}
